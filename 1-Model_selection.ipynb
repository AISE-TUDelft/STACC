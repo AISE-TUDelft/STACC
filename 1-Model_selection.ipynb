{
 "cells": [
  {
   "cell_type": "markdown",
   "id": "a54aa536",
   "metadata": {},
   "source": [
    "# Model Selection\n",
    "\n",
    "In this notebook, we will:\n",
    "- [Load the data](#data_collection)\n",
    "- [Select a SetFit base model](#model_selection)\n",
    "- [Tune the hyperparameters of the selected base model](#hyper_param)\n",
    "- [Train the model with the best hyperparameters](#train)\n",
    "- [Show that our model improves over the baseline](#result)"
   ]
  },
  {
   "cell_type": "code",
   "execution_count": null,
   "id": "a25bfb05",
   "metadata": {},
   "outputs": [],
   "source": [
    "# Imports\n",
    "import pandas as pd\n",
    "from setfit import SetFitModel, SetFitTrainer\n",
    "from sentence_transformers.losses import CosineSimilarityLoss\n",
    "from setfit import SetFitTrainer\n",
    "from datasets import Dataset\n",
    "from setfit import sample_dataset\n",
    "from tqdm.auto import tqdm\n",
    "from sklearn.metrics import f1_score\n",
    "import joblib\n",
    "import pickle\n",
    "from optuna.visualization.matplotlib import plot_param_importances\n",
    "from sklearn.metrics import confusion_matrix\n",
    "## Workaround for dashes in name\n",
    "from importlib import import_module\n",
    "nlbse_statistics = import_module('code-comment-classification.nlbse_statistics') \n",
    "\n",
    "tqdm.pandas()"
   ]
  },
  {
   "cell_type": "markdown",
   "id": "993e6106",
   "metadata": {},
   "source": [
    "<a id='data_collection'></a>\n",
    "## Data collection\n",
    "We first load the data. \n",
    "To make the entire process a bit quicker, we only sample 32 instances per class and focus on the depreciation category."
   ]
  },
  {
   "cell_type": "code",
   "execution_count": null,
   "id": "a946c190",
   "metadata": {},
   "outputs": [],
   "source": [
    "# Load in the data\n",
    "df = pd.read_csv('./code-comment-classification/java/input/java.csv')\n",
    "## Only test deprecation\n",
    "df = df[df.category == 'deprecation']\n",
    "df['combo'] = df[['comment_sentence', 'class']].agg(' | '.join, axis=1)\n",
    "df['label'] = df.instance_type\n",
    "# Sample 32 instances for quicker training\n",
    "train_data = sample_dataset(Dataset.from_pandas(df[df.partition == 0]), num_samples=32)\n",
    "test_data = Dataset.from_pandas(df[df.partition == 1])"
   ]
  },
  {
   "cell_type": "markdown",
   "id": "fc7fd9f3",
   "metadata": {},
   "source": [
    "<a id='model_selection'></a>\n",
    "\n",
    "# Model Selection\n",
    "We tune 4 different models. We then select the best one."
   ]
  },
  {
   "cell_type": "code",
   "execution_count": null,
   "id": "620f76b9",
   "metadata": {
    "collapsed": true
   },
   "outputs": [],
   "source": [
    "### FIND BEST MODEL\n",
    "\n",
    "models_to_test = ['sentence-transformers/paraphrase-MiniLM-L3-v2',\n",
    "                 'sentence-transformers/all-MiniLM-L6-v2',\n",
    "                 'sentence-transformers/all-mpnet-base-v2',\n",
    "                 'flax-sentence-embeddings/st-codesearch-distilroberta-base']\n",
    "res = []\n",
    "\n",
    "for model_id in models_to_test:\n",
    "    model = SetFitModel.from_pretrained(model_id)\n",
    "    trainer = SetFitTrainer(\n",
    "        model=model,\n",
    "        train_dataset=train_data,\n",
    "        eval_dataset=test_data,\n",
    "        loss_class=CosineSimilarityLoss,\n",
    "        num_iterations=20,\n",
    "        num_epochs=5,\n",
    "        column_mapping={\"combo\": \"text\", \"label\": \"label\"},\n",
    "    )\n",
    "    trainer.train()\n",
    "    metrics = trainer.evaluate()\n",
    "    print(f'{model_id} loss: {metrics}')\n",
    "    y_hat = model.predict(test_data['combo'])\n",
    "    y = test_data['label']\n",
    "    _, fp, fn, tp = confusion_matrix(y_hat, y).ravel()\n",
    "    precision, recall, f1 = nlbse_statistics.get_precision_recall_f1(tp, fp, fn)\n",
    "    print(f'precision: {precision}, recall: {recall}, f1 {f1}')\n",
    "    res.append(f1)\n",
    "print(res)"
   ]
  },
  {
   "cell_type": "markdown",
   "id": "1f8e2c15",
   "metadata": {},
   "source": [
    "## Results\n",
    "| Model Name                              | Acc         | F1          | Training time |\n",
    "|-----------------------------------------|-------------|-------------|---------------|\n",
    "|     paraphrase-MiniLM-L3-v2             |     .877    |     .435    |     1:22      |\n",
    "|     all-MiniLM-L6-v2                    |     .887    |     .453    |     2:30      |\n",
    "|     all-mpnet-base-v2                   |     .934    |     .646    |     4:37      |\n",
    "|     st-codesearch-distilroberta-base    |     .883    |     .457    |     2:41      |\n",
    "\n",
    "The all-mpnet-base-v2 model performs best. While the training time is slightly increased, it is still relatively quick."
   ]
  },
  {
   "cell_type": "markdown",
   "id": "4942b71c",
   "metadata": {},
   "source": [
    "<a id='hyper_param'></a>\n",
    "\n",
    "## Hyperparameter search\n",
    "Next we make use of the optuna backend to search for the best hyperparameters."
   ]
  },
  {
   "cell_type": "code",
   "execution_count": null,
   "id": "1364d0db",
   "metadata": {},
   "outputs": [],
   "source": [
    "## BEST MODEL HYPER PARAM SEARCH\n",
    "\n",
    "def model_init(params):\n",
    "    params = params or {}\n",
    "    max_iter = params.get(\"max_iter\", 100)\n",
    "    solver = params.get(\"solver\", \"liblinear\")\n",
    "    params = {\n",
    "        \"head_params\": {\n",
    "            \"max_iter\": max_iter,\n",
    "            \"solver\": solver,\n",
    "        }\n",
    "    }\n",
    "    return SetFitModel.from_pretrained(\"sentence-transformers/all-mpnet-base-v2\", **params)\n",
    "\n",
    "def hp_space(trial):  # Training parameters\n",
    "    return {\n",
    "        \"learning_rate\": trial.suggest_float(\"learning_rate\", 1e-6, 1e-4, log=True),\n",
    "        \"num_epochs\": trial.suggest_int(\"num_epochs\", 1, 10),\n",
    "        \"batch_size\": trial.suggest_categorical(\"batch_size\", [4, 8, 16, 32, 64]),\n",
    "        \"seed\": trial.suggest_int(\"seed\", 1, 40),\n",
    "        \"num_iterations\": trial.suggest_categorical(\"num_iterations\", [5, 10, 20]),\n",
    "        \"max_iter\": trial.suggest_int(\"max_iter\", 50, 300),\n",
    "        \"solver\": trial.suggest_categorical(\"solver\", [\"newton-cg\", \"lbfgs\", \"liblinear\"]),        \n",
    "    }\n",
    "trainer = SetFitTrainer(\n",
    "        train_dataset=train_data,\n",
    "        eval_dataset=test_data,\n",
    "        loss_class=CosineSimilarityLoss,\n",
    "        model_init=model_init,\n",
    "        column_mapping={\"combo\": \"text\", \"label\": \"label\"},\n",
    "    )"
   ]
  },
  {
   "cell_type": "code",
   "execution_count": null,
   "id": "29f55fa3",
   "metadata": {
    "collapsed": true
   },
   "outputs": [],
   "source": [
    "## Save to file \n",
    "best_run = trainer.hyperparameter_search(direction=\"maximize\", hp_space=hp_space, n_trials=20)\n",
    "with open('best_run.pkl', 'wb') as file:\n",
    "    pickle.dump(best_run, file)"
   ]
  },
  {
   "cell_type": "markdown",
   "id": "abc0fe30",
   "metadata": {},
   "source": [
    "### Plot Parameter Importance\n",
    "We can see that the learning rate is by far the most important feature."
   ]
  },
  {
   "cell_type": "code",
   "execution_count": 54,
   "id": "48dd907c",
   "metadata": {},
   "outputs": [
    {
     "name": "stderr",
     "output_type": "stream",
     "text": [
      "/tmp/ipykernel_490063/1926739664.py:1: ExperimentalWarning: plot_param_importances is experimental (supported from v2.2.0). The interface can change in the future.\n",
      "  plot_param_importances(best_run.backend);\n"
     ]
    },
    {
     "data": {
      "image/png": "[encoded data removed]",
      "text/plain": [
       "<Figure size 640x480 with 1 Axes>"
      ]
     },
     "metadata": {},
     "output_type": "display_data"
    }
   ],
   "source": [
    "plot_param_importances(best_run.backend)"
   ]
  },
  {
   "cell_type": "markdown",
   "id": "dd98c853",
   "metadata": {},
   "source": [
    "<a id='train'></a>\n",
    "\n",
    "## Train Selected Model\n",
    "\n",
    "We load the selected hyperparameters and the full dataset and train our classifier."
   ]
  },
  {
   "cell_type": "code",
   "execution_count": null,
   "id": "2631934a",
   "metadata": {},
   "outputs": [],
   "source": [
    "# Load full dataset and train with best hyperparameters\n",
    "with open('best_run.pkl', 'rb') as file:\n",
    "    best_run = pickle.load(file)\n",
    "\n",
    "df = pd.read_csv('./code-comment-classification/java/input/java.csv')\n",
    "df = df[df.category == 'deprecation']\n",
    "df['label'] = df.instance_type\n",
    "df['combo'] = df[['comment_sentence', 'class']].agg(' | '.join, axis=1)\n",
    "train_data = Dataset.from_pandas(df[df.partition == 0])\n",
    "test_data = Dataset.from_pandas(df[df.partition == 1])\n",
    "\n",
    "trainer = SetFitTrainer(\n",
    "        train_dataset=train_data,\n",
    "        eval_dataset=test_data,\n",
    "        loss_class=CosineSimilarityLoss,\n",
    "        model_init=model_init,\n",
    "        column_mapping={\"combo\": \"text\", \"label\": \"label\"},\n",
    "    )\n",
    "\n",
    "best_run.hyperparameters['batch_size'] = 8 # Reduce batch size\n",
    "\n",
    "trainer.apply_hyperparameters(best_run.hyperparameters, final_model=True)\n",
    "trainer.train()\n",
    "# Dump to file \n",
    "joblib.dump(trainer, './java_deprecation_all-mpnet-base-v2.joblib')"
   ]
  },
  {
   "cell_type": "code",
   "execution_count": null,
   "id": "c36d9649",
   "metadata": {},
   "outputs": [],
   "source": [
    "## Print score\n",
    "trainer = joblib.load(f'./java_deprecation_all-mpnet-base-v2.joblib')\n",
    "\n",
    "y_hat = trainer.model(test_data['combo'])\n",
    "y = test_data['label']\n",
    "_, fp, fn, tp = confusion_matrix(y_hat, y).ravel()\n",
    "precision, recall, f1 = nlbse_statistics.get_precision_recall_f1(tp, fp, fn)\n",
    "print(f'precision: {precision}, recall: {recall}, f1 {f1}')\n",
    "wf1 = f1_score(y, y_hat, average='weighted')\n",
    "print(f'weighted f1: {wf1}')"
   ]
  },
  {
   "cell_type": "markdown",
   "id": "f19f4191",
   "metadata": {},
   "source": [
    "<a id='result'></a>\n",
    "\n",
    "## Result \n",
    "Our weighted f1 score was: 0,984931778360937\n",
    "\n",
    "This is an improvement over the baseline of 0,916601 🎊🎊\n",
    "\n",
    "\n",
    "![display image](https://github.com/snipe/animated-gifs/blob/master/badass-nailed-it/such-good-win.gif?raw=true)"
   ]
  },
  {
   "cell_type": "markdown",
   "id": "1df2e89e",
   "metadata": {},
   "source": [
    "## Conclusion\n",
    "We now have selected a base-model and we've found the best hyperparameters, with these we have trained a single classifier for one of the categories.\n",
    "\n",
    "Please join us in the next [Notebook](./2-Creating_classifiers.ipynb) where we train a classifier for each of the 19 categories."
   ]
  }
 ],
 "metadata": {
  "kernelspec": {
   "display_name": "Python 3.9.16 ('ccc')",
   "language": "python",
   "name": "python3"
  },
  "language_info": {
   "codemirror_mode": {
    "name": "ipython",
    "version": 3
   },
   "file_extension": ".py",
   "mimetype": "text/x-python",
   "name": "python",
   "nbconvert_exporter": "python",
   "pygments_lexer": "ipython3",
   "version": "3.9.16"
  },
  "vscode": {
   "interpreter": {
    "hash": "1c939da4cfa949c49ddc5bcee6359aba8238bc2256b58ff85e47baa14efab0c5"
   }
  }
 },
 "nbformat": 4,
 "nbformat_minor": 5
}
