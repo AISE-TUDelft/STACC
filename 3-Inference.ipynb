{
 "cells": [
  {
   "cell_type": "markdown",
   "id": "979ccc97",
   "metadata": {},
   "source": [
    "# Inference\n",
    "\n",
    "In this final Notebook we will show how:\n",
    " - [Our pre-trained models can be loaded in from the Hugging Face Hub](#load)\n",
    " - [We can use these models locally to run inference](#local)"
   ]
  },
  {
   "cell_type": "code",
   "execution_count": 1,
   "id": "7a90821d",
   "metadata": {},
   "outputs": [],
   "source": [
    "# Imports\n",
    "import pandas as pd\n",
    "from setfit import SetFitModel, SetFitTrainer\n",
    "from sentence_transformers.losses import CosineSimilarityLoss\n",
    "from setfit import SetFitTrainer\n",
    "from datasets import Dataset\n",
    "from setfit import sample_dataset\n",
    "from tqdm.auto import tqdm\n",
    "from sklearn.metrics import f1_score\n",
    "import joblib\n",
    "import pickle\n",
    "from sklearn.metrics import confusion_matrix\n",
    "## Workaround for dashes in name\n",
    "from importlib import import_module\n",
    "nlbse_statistics = import_module('code-comment-classification.nlbse_statistics') \n",
    "\n",
    "tqdm.pandas()"
   ]
  },
  {
   "cell_type": "code",
   "execution_count": 8,
   "id": "58a3e4cf",
   "metadata": {},
   "outputs": [],
   "source": [
    "# Load data\n",
    "langs = ['java', 'python', 'pharo']\n",
    "lan_cats = []\n",
    "datasets = {}\n",
    "for lan in langs: # for each language\n",
    "    df = pd.read_csv(f'./code-comment-classification/{lan}/input/{lan}.csv')\n",
    "    df['label'] = df.instance_type\n",
    "    cats = list(map(lambda x: lan + '_' + x, list(set(df.category))))\n",
    "    lan_cats = lan_cats + cats\n",
    "    for cat in list(set(df.category)): # for each category\n",
    "        filtered =  df[df.category == cat]\n",
    "        train_data = Dataset.from_pandas(filtered[filtered.partition == 0])\n",
    "        test_data = Dataset.from_pandas(filtered[filtered.partition == 1])\n",
    "        datasets[f'{lan}_{cat}'] = {'train_data': train_data, 'test_data' : test_data}"
   ]
  },
  {
   "cell_type": "markdown",
   "id": "3c7150d2",
   "metadata": {},
   "source": [
    "<a id='load'></a>\n",
    "\n",
    "## Load Model\n",
    "\n",
    "For simplicity we will show how to use one of the classifiers, these same steps can be repeated for the other models"
   ]
  },
  {
   "cell_type": "code",
   "execution_count": 12,
   "id": "9bf98461",
   "metadata": {},
   "outputs": [],
   "source": [
    "# Upon publication the repos will be made public and auth is no longer needed\n",
    "token = 'hf_XXXXXXXXXXXXXXXXXXXXXXXXXXXXXXXXX' \n",
    "\n",
    "model = SetFitModel.from_pretrained(\"aalkaswan/java-deprecation-classifier\", \n",
    "#                                     device='cpu', #Use this if you don't have a GPU \n",
    "                                    use_auth_token=token)"
   ]
  },
  {
   "cell_type": "markdown",
   "id": "43db5042",
   "metadata": {},
   "source": [
    "<a id='local'></a>\n",
    "\n",
    "## Local Inference\n",
    "Now we will use our model to run inference locally. We run some custom examples and validate that it gives the same scores as in the previous notebook."
   ]
  },
  {
   "cell_type": "code",
   "execution_count": 13,
   "id": "e6602399",
   "metadata": {},
   "outputs": [
    {
     "data": {
      "text/plain": [
       "array([1, 0, 0, 0])"
      ]
     },
     "execution_count": 13,
     "metadata": {},
     "output_type": "execute_result"
    }
   ],
   "source": [
    "#Try some examples \n",
    "model(['This method will be removed in version 4.42', 'Init method to initialize object', \n",
    "       'SentenceTransformers are awesome!', 'I want a pet Capybara 🦫'])"
   ]
  },
  {
   "cell_type": "code",
   "execution_count": 14,
   "id": "ee7fc059",
   "metadata": {},
   "outputs": [
    {
     "name": "stdout",
     "output_type": "stream",
     "text": [
      "precision: 0.7037037037037037, recall: 0.8636363636363636, f1 0.7755102040816326 weighted f1: 0.9763213659957574\n"
     ]
    }
   ],
   "source": [
    "# Score the test set again \n",
    "test_data = datasets['java_deprecation']['test_data']\n",
    "y_hat = model(test_data['comment_sentence'])\n",
    "y = test_data['label']\n",
    "_, fp, fn, tp = confusion_matrix(y_hat, y).ravel()\n",
    "wf1 = f1_score(y, y_hat, average='weighted')\n",
    "precision, recall, f1 = nlbse_statistics.get_precision_recall_f1(tp, fp, fn)\n",
    "print(f'precision: {precision}, recall: {recall}, f1 {f1} weighted f1: {wf1}')"
   ]
  },
  {
   "cell_type": "markdown",
   "id": "5944a472",
   "metadata": {},
   "source": [
    "## Conclusion\n",
    "\n",
    "In this notebook we have shown how the classifiers, which we designed in [Notebook 1](./1-Model_selection.ipynb) and created in [Notebook 2](./2-Creating_classifiers.ipynb), can be loaded and used for inference. While a GPU was required for training, inference is still quick on a CPU and with a model size of around 420MB it would fit almost any GPU.\n",
    "\n",
    "![display image](https://github.com/jglovier/gifs/blob/gh-pages/done/hand-wipe.gif?raw=true)\n",
    "\n"
   ]
  }
 ],
 "metadata": {
  "kernelspec": {
   "display_name": "Python [conda env:ccc]",
   "language": "python",
   "name": "conda-env-ccc-py"
  },
  "language_info": {
   "codemirror_mode": {
    "name": "ipython",
    "version": 3
   },
   "file_extension": ".py",
   "mimetype": "text/x-python",
   "name": "python",
   "nbconvert_exporter": "python",
   "pygments_lexer": "ipython3",
   "version": "3.8.15"
  }
 },
 "nbformat": 4,
 "nbformat_minor": 5
}
